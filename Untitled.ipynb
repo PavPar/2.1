{
 "cells": [
  {
   "cell_type": "code",
   "execution_count": 1,
   "metadata": {},
   "outputs": [],
   "source": [
    "import numpy as np\n",
    "import pandas as pd\n",
    "import math  \n",
    "\n",
    "movieRating = pd.DataFrame(pd.read_csv('./data.csv'))\n",
    "movieNames = pd.DataFrame(pd.read_csv('./movie_names.csv'))\n",
    "contextPlace = pd.DataFrame(pd.read_csv('./context_place.csv'))\n",
    "contextDay = pd.DataFrame(pd.read_csv('./context_day.csv'))"
   ]
  },
  {
   "cell_type": "code",
   "execution_count": 2,
   "metadata": {},
   "outputs": [],
   "source": [
    "def sim(usrIndexA,usrIndexB):\n",
    "    ratings = movieRating.iloc[[usrIndexA,usrIndexB],range(1,len(movieRating.columns))]\n",
    "    badColumns = ratings[ratings == -1].dropna(axis=1, how='all').columns\n",
    "    moviesWithRating = ratings.drop(axis=1, columns=badColumns)\n",
    "    \n",
    "    a = moviesWithRating.iloc[0,:].apply(lambda x: x*x).sum()\n",
    "    b = moviesWithRating.iloc[1,:].apply(lambda x: x*x).sum()\n",
    "    \n",
    "    a = math.sqrt(a)\n",
    "    b = math.sqrt(b)\n",
    "    \n",
    "    sumAB = (moviesWithRating.iloc[0,:] * moviesWithRating.iloc[1,:]).sum()\n",
    "    res = sumAB/(a*b)\n",
    "    return res"
   ]
  },
  {
   "cell_type": "code",
   "execution_count": 12,
   "metadata": {},
   "outputs": [],
   "source": [
    "def getMean(userID):\n",
    "    temp = movieRating.iloc[[userID],range(1,len(movieRating.columns))]\n",
    "    res = temp.mean(axis=1)\n",
    "    return res.values[0]"
   ]
  },
  {
   "cell_type": "code",
   "execution_count": 4,
   "metadata": {},
   "outputs": [],
   "source": [
    "def getFilmRating(userID,filmID):\n",
    "    rating = movieRating.iloc[[userID],range(1,len(movieRating.columns))]\n",
    "    return  rating.iloc[[0],[filmID]].values"
   ]
  },
  {
   "cell_type": "code",
   "execution_count": 5,
   "metadata": {},
   "outputs": [],
   "source": [
    "def getSumSim(userID):\n",
    "    res=0;\n",
    "    for i in range(0,len(movieRating.count()+1)):\n",
    "        res = res + abs(sim(userID,i))\n",
    "    return res;"
   ]
  },
  {
   "cell_type": "code",
   "execution_count": 19,
   "metadata": {},
   "outputs": [],
   "source": [
    "def getSmthng(userID,filmID):\n",
    "    res=0;\n",
    "    for i in range(0,len(movieRating.count()+1)):\n",
    "        rvi = getFilmRating(i,filmID)\n",
    "        \n",
    "        if(rvi != -1):\n",
    "            usersSim = sim(userID,i)\n",
    "        \n",
    "            rv = getMean(i);\n",
    "        \n",
    "            res = res + usersSim*(rvi-rv)\n",
    "        \n",
    "    return res"
   ]
  },
  {
   "cell_type": "code",
   "execution_count": 7,
   "metadata": {},
   "outputs": [],
   "source": [
    "def getEval(userID,filmID):\n",
    "    sumSum = getSumSim(userID);\n",
    "    smthng = getSmthng(userID,filmID)\n",
    "    return getMean(userID)+(smthng/sumSum)"
   ]
  },
  {
   "cell_type": "code",
   "execution_count": 8,
   "metadata": {},
   "outputs": [
    {
     "data": {
      "text/plain": [
       "array([[2.31677411]])"
      ]
     },
     "execution_count": 8,
     "metadata": {},
     "output_type": "execute_result"
    }
   ],
   "source": [
    "getEval(27,0)"
   ]
  },
  {
   "cell_type": "code",
   "execution_count": 20,
   "metadata": {
    "scrolled": true
   },
   "outputs": [
    {
     "name": "stdout",
     "output_type": "stream",
     "text": [
      "{3: array([[3.1037263]]), 6: array([[2.94430662]]), 7: array([[3.30849619]]), 9: array([[3.06939182]]), 21: array([[2.87787318]]), 22: array([[2.97266817]]), 26: array([[3.24729626]])}\n"
     ]
    }
   ],
   "source": [
    "res = {}\n",
    "for i in range(0,len(movieRating.columns)-1):\n",
    "    rvi = getFilmRating(22,i)\n",
    "    if(rvi == -1):\n",
    "        res[i+1] = getEval(22,i);\n",
    "print(res)"
   ]
  },
  {
   "cell_type": "code",
   "execution_count": 10,
   "metadata": {
    "scrolled": true
   },
   "outputs": [
    {
     "data": {
      "text/html": [
       "<div>\n",
       "<style scoped>\n",
       "    .dataframe tbody tr th:only-of-type {\n",
       "        vertical-align: middle;\n",
       "    }\n",
       "\n",
       "    .dataframe tbody tr th {\n",
       "        vertical-align: top;\n",
       "    }\n",
       "\n",
       "    .dataframe thead th {\n",
       "        text-align: right;\n",
       "    }\n",
       "</style>\n",
       "<table border=\"1\" class=\"dataframe\">\n",
       "  <thead>\n",
       "    <tr style=\"text-align: right;\">\n",
       "      <th></th>\n",
       "      <th>Movie 3</th>\n",
       "      <th>Movie 6</th>\n",
       "      <th>Movie 7</th>\n",
       "      <th>Movie 9</th>\n",
       "      <th>Movie 21</th>\n",
       "      <th>Movie 22</th>\n",
       "      <th>Movie 26</th>\n",
       "    </tr>\n",
       "  </thead>\n",
       "  <tbody>\n",
       "    <tr>\n",
       "      <th>22</th>\n",
       "      <td>-1</td>\n",
       "      <td>-1</td>\n",
       "      <td>-1</td>\n",
       "      <td>-1</td>\n",
       "      <td>-1</td>\n",
       "      <td>-1</td>\n",
       "      <td>-1</td>\n",
       "    </tr>\n",
       "  </tbody>\n",
       "</table>\n",
       "</div>"
      ],
      "text/plain": [
       "     Movie 3   Movie 6   Movie 7   Movie 9   Movie 21   Movie 22   Movie 26\n",
       "22        -1        -1        -1        -1         -1         -1         -1"
      ]
     },
     "execution_count": 10,
     "metadata": {},
     "output_type": "execute_result"
    }
   ],
   "source": [
    "movieRating.iloc[[22],range(1,len(movieRating.columns))][movieRating == -1].dropna(axis=1)"
   ]
  },
  {
   "cell_type": "code",
   "execution_count": 18,
   "metadata": {},
   "outputs": [
    {
     "data": {
      "text/plain": [
       " Movie 1     1\n",
       " Movie 2     5\n",
       " Movie 6     2\n",
       " Movie 7     4\n",
       " Movie 9     4\n",
       " Movie 10    2\n",
       " Movie 11    5\n",
       " Movie 13    4\n",
       " Movie 14    1\n",
       " Movie 15    4\n",
       " Movie 16    5\n",
       " Movie 17    1\n",
       " Movie 18    3\n",
       " Movie 20    2\n",
       " Movie 21    5\n",
       " Movie 22    3\n",
       " Movie 23    1\n",
       " Movie 24    5\n",
       " Movie 25    2\n",
       " Movie 27    2\n",
       " Movie 28    2\n",
       " Movie 29    4\n",
       "Name: 25, dtype: int64"
      ]
     },
     "execution_count": 18,
     "metadata": {},
     "output_type": "execute_result"
    }
   ],
   "source": []
  }
 ],
 "metadata": {
  "kernelspec": {
   "display_name": "Python 3",
   "language": "python",
   "name": "python3"
  },
  "language_info": {
   "codemirror_mode": {
    "name": "ipython",
    "version": 3
   },
   "file_extension": ".py",
   "mimetype": "text/x-python",
   "name": "python",
   "nbconvert_exporter": "python",
   "pygments_lexer": "ipython3",
   "version": "3.6.9"
  }
 },
 "nbformat": 4,
 "nbformat_minor": 4
}
